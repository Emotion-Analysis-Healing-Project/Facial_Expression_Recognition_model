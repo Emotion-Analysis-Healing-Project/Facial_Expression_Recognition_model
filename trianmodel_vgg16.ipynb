{
 "cells": [
  {
   "cell_type": "code",
   "execution_count": 1,
   "id": "24a48e07",
   "metadata": {},
   "outputs": [],
   "source": [
    "import tensorflow as tf\n"
   ]
  },
  {
   "cell_type": "code",
   "execution_count": 2,
   "id": "c81db930",
   "metadata": {},
   "outputs": [],
   "source": [
    "import keras\n",
    "from keras.preprocessing.image import ImageDataGenerator\n",
    "from keras.models import Sequential\n",
    "from keras.layers import Dense, Dropout, Activation, Flatten, BatchNormalization\n",
    "from keras.layers import Conv2D, MaxPool2D\n",
    "import os\n"
   ]
  },
  {
   "cell_type": "code",
   "execution_count": 3,
   "id": "2b01067a",
   "metadata": {},
   "outputs": [],
   "source": [
    "from keras import layers\n",
    "from keras import models"
   ]
  },
  {
   "cell_type": "code",
   "execution_count": 4,
   "id": "5e2771ad",
   "metadata": {},
   "outputs": [],
   "source": [
    "num_classes = 5\n",
    "img_rows, img_cols = 48,48\n",
    "batch_size=8"
   ]
  },
  {
   "cell_type": "code",
   "execution_count": 5,
   "id": "6784a4fb",
   "metadata": {},
   "outputs": [],
   "source": [
    "train_data_dir = r'C:/Users/melod/Facial_Expression_Recognition/train'\n",
    "validation_data_dir=r'C:/Users/melod/Facial_Expression_Recognition/validation'"
   ]
  },
  {
   "cell_type": "code",
   "execution_count": 6,
   "id": "becfd94b",
   "metadata": {},
   "outputs": [
    {
     "name": "stdout",
     "output_type": "stream",
     "text": [
      "Found 24282 images belonging to 5 classes.\n",
      "Found 5937 images belonging to 5 classes.\n"
     ]
    }
   ],
   "source": [
    "train_datagen = ImageDataGenerator(rescale=1./255,\n",
    "                                  rotation_range=30,\n",
    "                                  shear_range=0.3,\n",
    "                                  zoom_range=0.1,\n",
    "                                  width_shift_range=0.4, \n",
    "                                  height_shift_range= 0.4,\n",
    "                                  horizontal_flip=True, \n",
    "                                  vertical_flip= True,\n",
    "                                  fill_mode = 'nearest'\n",
    "                                  )\n",
    "\n",
    "validation_datagen = ImageDataGenerator(rescale=1./255)\n",
    "\n",
    "train_generator = train_datagen.flow_from_directory(train_data_dir,\n",
    "                                                   color_mode='grayscale',\n",
    "                                                    target_size=(img_rows, img_cols),\n",
    "                                                    batch_size= batch_size,\n",
    "                                                    class_mode='categorical',\n",
    "                                                    shuffle=True\n",
    "                                                   )\n",
    "validation_generator = validation_datagen.flow_from_directory(validation_data_dir,\n",
    "                                                   color_mode='grayscale',\n",
    "                                                    target_size=(img_rows, img_cols),\n",
    "                                                    batch_size= batch_size,\n",
    "                                                    class_mode='categorical',\n",
    "                                                    shuffle=True\n",
    "                                                   )"
   ]
  },
  {
   "cell_type": "code",
   "execution_count": 7,
   "id": "99990b61",
   "metadata": {},
   "outputs": [],
   "source": [
    "model = Sequential()\n",
    "\n",
    "# VGG 사용\n",
    "# block1\n",
    "model.add(Conv2D(32,(3,3), \n",
    "         padding='same', kernel_initializer='he_normal',\n",
    "         input_shape=(48, 48,1)))\n",
    "model.add(Activation('elu'))\n",
    "model.add(BatchNormalization())\n",
    "model.add(Conv2D(32,(3,3), \n",
    "         padding='same', kernel_initializer='he_normal',\n",
    "         input_shape=(48, 48,1)))\n",
    "model.add(Activation('elu'))\n",
    "model.add(BatchNormalization())\n",
    "model.add(MaxPool2D(pool_size=(2,2)))\n",
    "model.add(Dropout(0.2))\n",
    "\n",
    "# block2\n",
    "model.add(Conv2D(64,(3,3), \n",
    "         padding='same', kernel_initializer='he_normal',\n",
    "         input_shape=(48, 48,1)))\n",
    "model.add(Activation('elu'))\n",
    "model.add(BatchNormalization())\n",
    "model.add(Conv2D(64,(3,3), \n",
    "         padding='same', kernel_initializer='he_normal',\n",
    "         input_shape=(48, 48,1)))\n",
    "model.add(Activation('elu'))\n",
    "model.add(BatchNormalization())\n",
    "model.add(MaxPool2D(pool_size=(2,2)))\n",
    "model.add(Dropout(0.2))\n",
    "\n",
    "# block3\n",
    "\n",
    "model.add(Conv2D(128,(3,3), \n",
    "         padding='same', kernel_initializer='he_normal',\n",
    "         input_shape=(48, 48,1)))\n",
    "model.add(Activation('elu'))\n",
    "model.add(BatchNormalization())\n",
    "model.add(Conv2D(128,(3,3), \n",
    "         padding='same', kernel_initializer='he_normal',\n",
    "         input_shape=(48, 48,1)))\n",
    "model.add(Activation('elu'))\n",
    "model.add(BatchNormalization())\n",
    "model.add(MaxPool2D(pool_size=(2,2)))\n",
    "model.add(Dropout(0.2))\n",
    "\n",
    "# block4\n",
    "\n",
    "model.add(Conv2D(256,(3,3), \n",
    "         padding='same', kernel_initializer='he_normal',\n",
    "         input_shape=(48, 48,1)))\n",
    "model.add(Activation('elu'))\n",
    "model.add(BatchNormalization())\n",
    "model.add(Conv2D(256,(3,3), \n",
    "         padding='same', kernel_initializer='he_normal',\n",
    "         input_shape=(48, 48,1)))\n",
    "model.add(Activation('elu'))\n",
    "model.add(BatchNormalization())\n",
    "model.add(MaxPool2D(pool_size=(2,2)))\n",
    "model.add(Dropout(0.2))\n",
    "\n",
    "# block5\n",
    "model.add(Flatten())\n",
    "model.add(Dense(64,kernel_initializer='he_normal'))\n",
    "model.add(Activation('elu'))\n",
    "model.add(BatchNormalization())\n",
    "model.add(Dropout(0.5))\n",
    "\n",
    "#block6\n",
    "model.add(Dense(64,kernel_initializer='he_normal'))\n",
    "model.add(Activation('elu'))\n",
    "model.add(BatchNormalization())\n",
    "model.add(Dropout(0.5))\n",
    "\n",
    "# block7\n",
    "\n",
    "model.add(Dense(num_classes, kernel_initializer='he_normal'))\n",
    "model.add(Activation('softmax'))\n"
   ]
  },
  {
   "cell_type": "code",
   "execution_count": 8,
   "id": "f7e9e3cb",
   "metadata": {},
   "outputs": [
    {
     "name": "stdout",
     "output_type": "stream",
     "text": [
      "Model: \"sequential\"\n",
      "_________________________________________________________________\n",
      " Layer (type)                Output Shape              Param #   \n",
      "=================================================================\n",
      " conv2d (Conv2D)             (None, 48, 48, 32)        320       \n",
      "                                                                 \n",
      " activation (Activation)     (None, 48, 48, 32)        0         \n",
      "                                                                 \n",
      " batch_normalization (BatchN  (None, 48, 48, 32)       128       \n",
      " ormalization)                                                   \n",
      "                                                                 \n",
      " conv2d_1 (Conv2D)           (None, 48, 48, 32)        9248      \n",
      "                                                                 \n",
      " activation_1 (Activation)   (None, 48, 48, 32)        0         \n",
      "                                                                 \n",
      " batch_normalization_1 (Batc  (None, 48, 48, 32)       128       \n",
      " hNormalization)                                                 \n",
      "                                                                 \n",
      " max_pooling2d (MaxPooling2D  (None, 24, 24, 32)       0         \n",
      " )                                                               \n",
      "                                                                 \n",
      " dropout (Dropout)           (None, 24, 24, 32)        0         \n",
      "                                                                 \n",
      " conv2d_2 (Conv2D)           (None, 24, 24, 64)        18496     \n",
      "                                                                 \n",
      " activation_2 (Activation)   (None, 24, 24, 64)        0         \n",
      "                                                                 \n",
      " batch_normalization_2 (Batc  (None, 24, 24, 64)       256       \n",
      " hNormalization)                                                 \n",
      "                                                                 \n",
      " conv2d_3 (Conv2D)           (None, 24, 24, 64)        36928     \n",
      "                                                                 \n",
      " activation_3 (Activation)   (None, 24, 24, 64)        0         \n",
      "                                                                 \n",
      " batch_normalization_3 (Batc  (None, 24, 24, 64)       256       \n",
      " hNormalization)                                                 \n",
      "                                                                 \n",
      " max_pooling2d_1 (MaxPooling  (None, 12, 12, 64)       0         \n",
      " 2D)                                                             \n",
      "                                                                 \n",
      " dropout_1 (Dropout)         (None, 12, 12, 64)        0         \n",
      "                                                                 \n",
      " conv2d_4 (Conv2D)           (None, 12, 12, 128)       73856     \n",
      "                                                                 \n",
      " activation_4 (Activation)   (None, 12, 12, 128)       0         \n",
      "                                                                 \n",
      " batch_normalization_4 (Batc  (None, 12, 12, 128)      512       \n",
      " hNormalization)                                                 \n",
      "                                                                 \n",
      " conv2d_5 (Conv2D)           (None, 12, 12, 128)       147584    \n",
      "                                                                 \n",
      " activation_5 (Activation)   (None, 12, 12, 128)       0         \n",
      "                                                                 \n",
      " batch_normalization_5 (Batc  (None, 12, 12, 128)      512       \n",
      " hNormalization)                                                 \n",
      "                                                                 \n",
      " max_pooling2d_2 (MaxPooling  (None, 6, 6, 128)        0         \n",
      " 2D)                                                             \n",
      "                                                                 \n",
      " dropout_2 (Dropout)         (None, 6, 6, 128)         0         \n",
      "                                                                 \n",
      " conv2d_6 (Conv2D)           (None, 6, 6, 256)         295168    \n",
      "                                                                 \n",
      " activation_6 (Activation)   (None, 6, 6, 256)         0         \n",
      "                                                                 \n",
      " batch_normalization_6 (Batc  (None, 6, 6, 256)        1024      \n",
      " hNormalization)                                                 \n",
      "                                                                 \n",
      " conv2d_7 (Conv2D)           (None, 6, 6, 256)         590080    \n",
      "                                                                 \n",
      " activation_7 (Activation)   (None, 6, 6, 256)         0         \n",
      "                                                                 \n",
      " batch_normalization_7 (Batc  (None, 6, 6, 256)        1024      \n",
      " hNormalization)                                                 \n",
      "                                                                 \n",
      " max_pooling2d_3 (MaxPooling  (None, 3, 3, 256)        0         \n",
      " 2D)                                                             \n",
      "                                                                 \n",
      " dropout_3 (Dropout)         (None, 3, 3, 256)         0         \n",
      "                                                                 \n",
      " flatten (Flatten)           (None, 2304)              0         \n",
      "                                                                 \n",
      " dense (Dense)               (None, 64)                147520    \n",
      "                                                                 \n",
      " activation_8 (Activation)   (None, 64)                0         \n",
      "                                                                 \n",
      " batch_normalization_8 (Batc  (None, 64)               256       \n",
      " hNormalization)                                                 \n",
      "                                                                 \n",
      " dropout_4 (Dropout)         (None, 64)                0         \n",
      "                                                                 \n",
      " dense_1 (Dense)             (None, 64)                4160      \n",
      "                                                                 \n",
      " activation_9 (Activation)   (None, 64)                0         \n",
      "                                                                 \n",
      " batch_normalization_9 (Batc  (None, 64)               256       \n",
      " hNormalization)                                                 \n",
      "                                                                 \n",
      " dropout_5 (Dropout)         (None, 64)                0         \n",
      "                                                                 \n",
      " dense_2 (Dense)             (None, 5)                 325       \n",
      "                                                                 \n",
      " activation_10 (Activation)  (None, 5)                 0         \n",
      "                                                                 \n",
      "=================================================================\n",
      "Total params: 1,328,037\n",
      "Trainable params: 1,325,861\n",
      "Non-trainable params: 2,176\n",
      "_________________________________________________________________\n",
      "None\n"
     ]
    }
   ],
   "source": [
    "print(model.summary())"
   ]
  },
  {
   "cell_type": "code",
   "execution_count": 9,
   "id": "4ea05326",
   "metadata": {},
   "outputs": [],
   "source": [
    "from keras.optimizers import RMSprop, SGD, Adam\n",
    "from keras.callbacks import ModelCheckpoint, EarlyStopping, ReduceLROnPlateau\n",
    "\n",
    "checkpoint = ModelCheckpoint('C:/Users/melod/Facial_Expression_Recognition/Emotion_little_vgg.h5',\n",
    "                             monitor='val_loss',\n",
    "                             mode = 'min',\n",
    "                             save_best_only=True,\n",
    "                             verbose = 1                             \n",
    "                            )\n",
    "\n",
    "earlystop = EarlyStopping(monitor='val_loss',\n",
    "                         min_delta=0,\n",
    "                         patience=3,\n",
    "                         verbose=1,\n",
    "                         restore_best_weights= True\n",
    "                         )\n",
    "\n",
    "reduce_lr = ReduceLROnPlateau(monitor='val_boss',\n",
    "                             factor=0.2,\n",
    "                             patience=3,\n",
    "                             verbose=1,\n",
    "                             min_delta=0.0001)\n",
    "\n",
    "# lerning 레이트 알기 위해서 사용 \n",
    "callbacks = [earlystop, checkpoint, reduce_lr]\n"
   ]
  },
  {
   "cell_type": "code",
   "execution_count": 10,
   "id": "7bede8c9",
   "metadata": {},
   "outputs": [],
   "source": [
    "\n",
    "model.compile(loss='categorical_crossentropy',\n",
    "              optimizer='adam',\n",
    "              metrics=['accuracy'])\n",
    "\n"
   ]
  },
  {
   "cell_type": "code",
   "execution_count": 11,
   "id": "d446e4a2",
   "metadata": {},
   "outputs": [],
   "source": [
    "nb_train_samples = 24176\n",
    "nb_validation_samples = 3006\n",
    "epochs = 25"
   ]
  },
  {
   "cell_type": "code",
   "execution_count": 12,
   "id": "23a959d0",
   "metadata": {
    "scrolled": true
   },
   "outputs": [
    {
     "name": "stdout",
     "output_type": "stream",
     "text": [
      "Epoch 1/25\n"
     ]
    },
    {
     "name": "stderr",
     "output_type": "stream",
     "text": [
      "C:\\Users\\melod\\anaconda3\\envs\\py37\\lib\\site-packages\\ipykernel_launcher.py:7: UserWarning: `Model.fit_generator` is deprecated and will be removed in a future version. Please use `Model.fit`, which supports generators.\n",
      "  import sys\n"
     ]
    },
    {
     "name": "stdout",
     "output_type": "stream",
     "text": [
      "3036/3036 [==============================] - 210s 69ms/step - loss: 1.7063 - accuracy: 0.2555 - val_loss: 1.5358 - val_accuracy: 0.3244\n",
      "Epoch 2/25\n",
      "3036/3036 [==============================] - 207s 68ms/step - loss: 1.5614 - accuracy: 0.2850 - val_loss: 1.5299 - val_accuracy: 0.3308\n",
      "Epoch 3/25\n",
      "3036/3036 [==============================] - 208s 69ms/step - loss: 1.5406 - accuracy: 0.3003 - val_loss: 1.5282 - val_accuracy: 0.3352\n",
      "Epoch 4/25\n",
      "3036/3036 [==============================] - 207s 68ms/step - loss: 1.5165 - accuracy: 0.3154 - val_loss: 1.4830 - val_accuracy: 0.3436\n",
      "Epoch 5/25\n",
      "3036/3036 [==============================] - 208s 68ms/step - loss: 1.5022 - accuracy: 0.3250 - val_loss: 1.4290 - val_accuracy: 0.3734\n",
      "Epoch 6/25\n",
      "3036/3036 [==============================] - 211s 69ms/step - loss: 1.4953 - accuracy: 0.3309 - val_loss: 1.5139 - val_accuracy: 0.3510\n",
      "Epoch 7/25\n",
      "3036/3036 [==============================] - 215s 71ms/step - loss: 1.4690 - accuracy: 0.3504 - val_loss: 1.4674 - val_accuracy: 0.3717\n",
      "Epoch 8/25\n",
      "3036/3036 [==============================] - 215s 71ms/step - loss: 1.4335 - accuracy: 0.3790 - val_loss: 1.3204 - val_accuracy: 0.4502\n",
      "Epoch 9/25\n",
      "3036/3036 [==============================] - 212s 70ms/step - loss: 1.4054 - accuracy: 0.3980 - val_loss: 1.2496 - val_accuracy: 0.4900\n",
      "Epoch 10/25\n",
      "3036/3036 [==============================] - 210s 69ms/step - loss: 1.3866 - accuracy: 0.4094 - val_loss: 1.2571 - val_accuracy: 0.4898\n",
      "Epoch 11/25\n",
      "3036/3036 [==============================] - 211s 70ms/step - loss: 1.3600 - accuracy: 0.4286 - val_loss: 1.3640 - val_accuracy: 0.4758\n",
      "Epoch 12/25\n",
      "3036/3036 [==============================] - 215s 71ms/step - loss: 1.3393 - accuracy: 0.4365 - val_loss: 1.1413 - val_accuracy: 0.5323\n",
      "Epoch 13/25\n",
      "3036/3036 [==============================] - 455s 150ms/step - loss: 1.3230 - accuracy: 0.4516 - val_loss: 1.1344 - val_accuracy: 0.5429\n",
      "Epoch 14/25\n",
      "3036/3036 [==============================] - 588s 194ms/step - loss: 1.3084 - accuracy: 0.4514 - val_loss: 1.0954 - val_accuracy: 0.5520\n",
      "Epoch 15/25\n",
      "3036/3036 [==============================] - 648s 213ms/step - loss: 1.2885 - accuracy: 0.4611 - val_loss: 1.0740 - val_accuracy: 0.5638\n",
      "Epoch 16/25\n",
      "3036/3036 [==============================] - 651s 215ms/step - loss: 1.2818 - accuracy: 0.4634 - val_loss: 1.0605 - val_accuracy: 0.5723\n",
      "Epoch 17/25\n",
      "3036/3036 [==============================] - 567s 187ms/step - loss: 1.2697 - accuracy: 0.4733 - val_loss: 1.0642 - val_accuracy: 0.5678\n",
      "Epoch 18/25\n",
      "3036/3036 [==============================] - 723s 238ms/step - loss: 1.2604 - accuracy: 0.4823 - val_loss: 1.0408 - val_accuracy: 0.5767\n",
      "Epoch 19/25\n",
      "3036/3036 [==============================] - 864s 284ms/step - loss: 1.2558 - accuracy: 0.4902 - val_loss: 1.0209 - val_accuracy: 0.5912\n",
      "Epoch 20/25\n",
      "3036/3036 [==============================] - 671s 221ms/step - loss: 1.2486 - accuracy: 0.4935 - val_loss: 1.0553 - val_accuracy: 0.5703\n",
      "Epoch 21/25\n",
      "3036/3036 [==============================] - 675s 222ms/step - loss: 1.2388 - accuracy: 0.4955 - val_loss: 1.0790 - val_accuracy: 0.5654\n",
      "Epoch 22/25\n",
      "3036/3036 [==============================] - 685s 226ms/step - loss: 1.2221 - accuracy: 0.5054 - val_loss: 1.0013 - val_accuracy: 0.5919\n",
      "Epoch 23/25\n",
      "3036/3036 [==============================] - 685s 226ms/step - loss: 1.2111 - accuracy: 0.5076 - val_loss: 0.9892 - val_accuracy: 0.6097\n",
      "Epoch 24/25\n",
      "3036/3036 [==============================] - 684s 225ms/step - loss: 1.2021 - accuracy: 0.5090 - val_loss: 0.9819 - val_accuracy: 0.6121\n",
      "Epoch 25/25\n",
      "3036/3036 [==============================] - 681s 224ms/step - loss: 1.1964 - accuracy: 0.5166 - val_loss: 0.9576 - val_accuracy: 0.6180\n"
     ]
    }
   ],
   "source": [
    "# fit the modelS\n",
    "history = model.fit_generator(\n",
    "          train_generator,\n",
    "          epochs=epochs,\n",
    "          steps_per_epoch=len(train_generator),\n",
    "          validation_data=validation_generator,\n",
    "          validation_steps=len(validation_generator),\n",
    "          callbacks = call\n",
    "        \n",
    "         )"
   ]
  },
  {
   "cell_type": "code",
   "execution_count": 14,
   "id": "cec876da",
   "metadata": {},
   "outputs": [
    {
     "name": "stdout",
     "output_type": "stream",
     "text": [
      "Saved model to disk\n"
     ]
    }
   ],
   "source": [
    "model.save('./model.h5')\n",
    " \n",
    "print(\"Saved model to disk\") "
   ]
  },
  {
   "cell_type": "code",
   "execution_count": 19,
   "id": "b23caf6d",
   "metadata": {},
   "outputs": [],
   "source": [
    "model.save('C:/Users/melod/Facial_Expression_Recognition/facefeatures_new_model2.h5')"
   ]
  },
  {
   "cell_type": "code",
   "execution_count": 2,
   "id": "fd4f850e",
   "metadata": {},
   "outputs": [
    {
     "ename": "ModuleNotFoundError",
     "evalue": "No module named 'maplotlib'",
     "output_type": "error",
     "traceback": [
      "\u001b[1;31m---------------------------------------------------------------------------\u001b[0m",
      "\u001b[1;31mModuleNotFoundError\u001b[0m                       Traceback (most recent call last)",
      "\u001b[1;32m~\\AppData\\Local\\Temp/ipykernel_1128/4216953456.py\u001b[0m in \u001b[0;36m<module>\u001b[1;34m\u001b[0m\n\u001b[1;32m----> 1\u001b[1;33m \u001b[1;32mimport\u001b[0m \u001b[0mmaplotlib\u001b[0m\u001b[1;33m.\u001b[0m\u001b[0mpyplot\u001b[0m \u001b[1;32mas\u001b[0m \u001b[0mplt\u001b[0m\u001b[1;33m\u001b[0m\u001b[1;33m\u001b[0m\u001b[0m\n\u001b[0m",
      "\u001b[1;31mModuleNotFoundError\u001b[0m: No module named 'maplotlib'"
     ]
    }
   ],
   "source": [
    "import maplotlib.pyplot as plt"
   ]
  },
  {
   "cell_type": "code",
   "execution_count": null,
   "id": "b09c7901",
   "metadata": {},
   "outputs": [],
   "source": []
  }
 ],
 "metadata": {
  "kernelspec": {
   "display_name": "Python 3 (ipykernel)",
   "language": "python",
   "name": "python3"
  },
  "language_info": {
   "codemirror_mode": {
    "name": "ipython",
    "version": 3
   },
   "file_extension": ".py",
   "mimetype": "text/x-python",
   "name": "python",
   "nbconvert_exporter": "python",
   "pygments_lexer": "ipython3",
   "version": "3.8.10"
  }
 },
 "nbformat": 4,
 "nbformat_minor": 5
}
